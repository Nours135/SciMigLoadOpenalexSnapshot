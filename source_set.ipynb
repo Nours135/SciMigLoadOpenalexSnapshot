{
 "cells": [
  {
   "cell_type": "code",
   "execution_count": 3,
   "metadata": {},
   "outputs": [
    {
     "name": "stdout",
     "output_type": "stream",
     "text": [
      "{'https://openalex.org/S4306418011', 'https://openalex.org/S4210191458', 'https://openalex.org/S4306419644', 'https://openalex.org/S118988714', 'https://openalex.org/S196139623', 'https://openalex.org/S4306420609', 'https://openalex.org/S4306419727', 'https://openalex.org/S2729999759', 'https://openalex.org/S4363608774', 'https://openalex.org/S25538012', 'https://openalex.org/S155526855', 'https://openalex.org/S4306420508', 'https://openalex.org/S4363608652', 'https://openalex.org/S4363607701', 'https://openalex.org/S4363608755', 'https://openalex.org/S2764948052', 'https://openalex.org/S4306420633', 'https://openalex.org/S4306419999', 'https://openalex.org/S4306419272', 'https://openalex.org/S4363607748', 'https://openalex.org/S199944782', 'https://openalex.org/S4363607764', 'https://openalex.org/S4363606243'}\n"
     ]
    }
   ],
   "source": [
    "import pandas as pd\n",
    "df = pd.read_excel('AI_Export/AI_sourceID.xlsx')\n",
    "df['Source ID'] = df['Source ID'].apply(lambda x: 'https://openalex.org/' + x.replace('s', 'S'))\n",
    "SOURCE_SET = set(df['Source ID'].tolist())\n",
    "print(SOURCE_SET)"
   ]
  }
 ],
 "metadata": {
  "kernelspec": {
   "display_name": "xyc39",
   "language": "python",
   "name": "python3"
  },
  "language_info": {
   "codemirror_mode": {
    "name": "ipython",
    "version": 3
   },
   "file_extension": ".py",
   "mimetype": "text/x-python",
   "name": "python",
   "nbconvert_exporter": "python",
   "pygments_lexer": "ipython3",
   "version": "3.9.18"
  }
 },
 "nbformat": 4,
 "nbformat_minor": 2
}
